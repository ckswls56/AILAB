{
  "cells": [
    {
      "cell_type": "markdown",
      "metadata": {},
      "source": [
        "# 토큰화(Tokenization), 벡터화(Vectorization), 임베딩(Embedding) 실습\n",
        "\n",
        "이 노트북에서는 자연어 처리의 기본 개념인 토큰화, 벡터화, 임베딩에 대해 실습을 통해 학습합니다.\n",
        "\n",
        "## 목차\n",
        "1. [토큰화(Tokenization)](#1-토큰화tokenization)\n",
        "2. [벡터화(Vectorization)](#2-벡터화vectorization)\n",
        "3. [임베딩(Embedding)](#3-임베딩embedding)\n",
        "4. [종합 실습](#4-종합-실습)\n"
      ]
    },
    {
      "cell_type": "code",
      "execution_count": 20,
      "metadata": {},
      "outputs": [
        {
          "name": "stdout",
          "output_type": "stream",
          "text": [
            "Requirement already satisfied: numpy in c:\\dev\\ailab\\venv\\lib\\site-packages (1.26.4)\n",
            "Requirement already satisfied: pandas in c:\\dev\\ailab\\venv\\lib\\site-packages (2.3.1)\n",
            "Requirement already satisfied: matplotlib in c:\\dev\\ailab\\venv\\lib\\site-packages (3.10.3)\n",
            "Requirement already satisfied: seaborn in c:\\dev\\ailab\\venv\\lib\\site-packages (0.13.2)\n",
            "Requirement already satisfied: scikit-learn in c:\\dev\\ailab\\venv\\lib\\site-packages (1.7.1)\n",
            "Requirement already satisfied: nltk in c:\\dev\\ailab\\venv\\lib\\site-packages (3.9.1)\n",
            "Requirement already satisfied: koreanize-matplotlib in c:\\dev\\ailab\\venv\\lib\\site-packages (0.1.1)\n",
            "Requirement already satisfied: python-dateutil>=2.8.2 in c:\\dev\\ailab\\venv\\lib\\site-packages (from pandas) (2.9.0.post0)\n",
            "Requirement already satisfied: pytz>=2020.1 in c:\\dev\\ailab\\venv\\lib\\site-packages (from pandas) (2025.2)\n",
            "Requirement already satisfied: tzdata>=2022.7 in c:\\dev\\ailab\\venv\\lib\\site-packages (from pandas) (2025.2)\n",
            "Requirement already satisfied: contourpy>=1.0.1 in c:\\dev\\ailab\\venv\\lib\\site-packages (from matplotlib) (1.3.2)\n",
            "Requirement already satisfied: cycler>=0.10 in c:\\dev\\ailab\\venv\\lib\\site-packages (from matplotlib) (0.12.1)\n",
            "Requirement already satisfied: fonttools>=4.22.0 in c:\\dev\\ailab\\venv\\lib\\site-packages (from matplotlib) (4.59.0)\n",
            "Requirement already satisfied: kiwisolver>=1.3.1 in c:\\dev\\ailab\\venv\\lib\\site-packages (from matplotlib) (1.4.8)\n",
            "Requirement already satisfied: packaging>=20.0 in c:\\dev\\ailab\\venv\\lib\\site-packages (from matplotlib) (24.2)\n",
            "Requirement already satisfied: pillow>=8 in c:\\dev\\ailab\\venv\\lib\\site-packages (from matplotlib) (11.3.0)\n",
            "Requirement already satisfied: pyparsing>=2.3.1 in c:\\dev\\ailab\\venv\\lib\\site-packages (from matplotlib) (3.2.3)\n",
            "Requirement already satisfied: scipy>=1.8.0 in c:\\dev\\ailab\\venv\\lib\\site-packages (from scikit-learn) (1.16.0)\n",
            "Requirement already satisfied: joblib>=1.2.0 in c:\\dev\\ailab\\venv\\lib\\site-packages (from scikit-learn) (1.5.1)\n",
            "Requirement already satisfied: threadpoolctl>=3.1.0 in c:\\dev\\ailab\\venv\\lib\\site-packages (from scikit-learn) (3.6.0)\n",
            "Requirement already satisfied: click in c:\\dev\\ailab\\venv\\lib\\site-packages (from nltk) (8.2.1)\n",
            "Requirement already satisfied: regex>=2021.8.3 in c:\\dev\\ailab\\venv\\lib\\site-packages (from nltk) (2024.11.6)\n",
            "Requirement already satisfied: tqdm in c:\\dev\\ailab\\venv\\lib\\site-packages (from nltk) (4.67.1)\n",
            "Requirement already satisfied: six>=1.5 in c:\\dev\\ailab\\venv\\lib\\site-packages (from python-dateutil>=2.8.2->pandas) (1.17.0)\n",
            "Requirement already satisfied: colorama in c:\\dev\\ailab\\venv\\lib\\site-packages (from click->nltk) (0.4.6)\n"
          ]
        },
        {
          "name": "stderr",
          "output_type": "stream",
          "text": [
            "\n",
            "[notice] A new release of pip is available: 25.0.1 -> 25.1.1\n",
            "[notice] To update, run: python.exe -m pip install --upgrade pip\n"
          ]
        }
      ],
      "source": [
        "!pip install numpy pandas matplotlib seaborn scikit-learn nltk "
      ]
    },
    {
      "cell_type": "code",
      "execution_count": 28,
      "metadata": {},
      "outputs": [],
      "source": [
        "import matplotlib.pyplot as plt\n",
        "import matplotlib.font_manager as fm\n",
        "\n",
        "plt.rcParams['font.family'] = 'Malgun Gothic'  # 윈도우용\n",
        "plt.rcParams['axes.unicode_minus'] = False     # 마이너스 기호 깨짐 방지\n"
      ]
    },
    {
      "cell_type": "code",
      "execution_count": 27,
      "metadata": {},
      "outputs": [
        {
          "name": "stdout",
          "output_type": "stream",
          "text": [
            "라이브러리 설치 완료!\n"
          ]
        }
      ],
      "source": [
        "# 필요한 라이브러리 설치 및 import\n",
        "import numpy as np\n",
        "import pandas as pd\n",
        "import matplotlib.pyplot as plt\n",
        "import seaborn as sns\n",
        "from sklearn.feature_extraction.text import CountVectorizer, TfidfVectorizer\n",
        "from sklearn.decomposition import PCA\n",
        "from sklearn.manifold import TSNE\n",
        "import re\n",
        "import nltk\n",
        "import warnings\n",
        "\n",
        "warnings.filterwarnings('ignore')\n",
        "\n",
        "# 한글 폰트 설정\n",
        "plt.rcParams['font.family'] = 'DejaVu Sans'\n",
        "plt.rcParams['axes.unicode_minus'] = False\n",
        "\n",
        "print(\"라이브러리 설치 완료!\")\n"
      ]
    },
    {
      "cell_type": "markdown",
      "metadata": {
        "vscode": {
          "languageId": "raw"
        }
      },
      "source": [
        "## 1. 토큰화(Tokenization)\n",
        "\n",
        "토큰화는 텍스트를 의미 있는 작은 단위(토큰)로 나누는 과정입니다. 이는 자연어 처리의 첫 번째 단계로, 컴퓨터가 텍스트를 이해할 수 있도록 구조화하는 작업입니다.\n",
        "\n",
        "### 1.1 기본 토큰화 방법\n"
      ]
    },
    {
      "cell_type": "code",
      "execution_count": 8,
      "metadata": {},
      "outputs": [
        {
          "name": "stdout",
          "output_type": "stream",
          "text": [
            "원본 텍스트:\n",
            "\n",
            "자연어 처리는 컴퓨터가 인간의 언어를 이해하고 분석하는 기술입니다.\n",
            "Machine learning and deep learning are important technologies in NLP.\n",
            "토큰화, 벡터화, 임베딩은 NLP의 핵심 개념입니다!\n",
            "\n",
            "\n",
            "==================================================\n",
            "\n",
            "1. 공백 기반 토큰화:\n",
            "['자연어', '처리는', '컴퓨터가', '인간의', '언어를', '이해하고', '분석하는', '기술입니다.', 'Machine', 'learning']\n",
            "총 토큰 개수: 24\n",
            "\n",
            "------------------------------\n",
            "\n"
          ]
        }
      ],
      "source": [
        "# 예시 텍스트\n",
        "text = \"\"\"\n",
        "자연어 처리는 컴퓨터가 인간의 언어를 이해하고 분석하는 기술입니다.\n",
        "Machine learning and deep learning are important technologies in NLP.\n",
        "토큰화, 벡터화, 임베딩은 NLP의 핵심 개념입니다!\n",
        "\"\"\"\n",
        "\n",
        "print(\"원본 텍스트:\")\n",
        "print(text)\n",
        "print(\"\\n\" + \"=\"*50 + \"\\n\")\n",
        "\n",
        "# 1. 공백 기반 토큰화\n",
        "def whitespace_tokenize(text):\n",
        "    return text.split()\n",
        "\n",
        "tokens_whitespace = whitespace_tokenize(text)\n",
        "print(\"1. 공백 기반 토큰화:\")\n",
        "print(tokens_whitespace[:10])  # 처음 10개만 출력\n",
        "print(f\"총 토큰 개수: {len(tokens_whitespace)}\")\n",
        "print(\"\\n\" + \"-\"*30 + \"\\n\")\n"
      ]
    },
    {
      "cell_type": "code",
      "execution_count": 9,
      "metadata": {},
      "outputs": [
        {
          "name": "stdout",
          "output_type": "stream",
          "text": [
            "2. 정규표현식 기반 토큰화:\n",
            "['자연어', '처리는', '컴퓨터가', '인간의', '언어를', '이해하고', '분석하는', '기술입니다', 'Machine', 'learning', 'and', 'deep', 'learning', 'are', 'important', 'technologies', 'in', 'NLP', '토큰화', '벡터화', '임베딩은', 'NLP의', '핵심', '개념입니다']\n",
            "총 토큰 개수: 24\n",
            "\n",
            "------------------------------\n",
            "\n",
            "3. 문장 기반 토큰화:\n",
            "문장 1: 자연어 처리는 컴퓨터가 인간의 언어를 이해하고 분석하는 기술입니다\n",
            "문장 2: Machine learning and deep learning are important technologies in NLP\n",
            "문장 3: 토큰화, 벡터화, 임베딩은 NLP의 핵심 개념입니다\n",
            "총 문장 개수: 3\n",
            "\n",
            "------------------------------\n",
            "\n"
          ]
        }
      ],
      "source": [
        "# 2. 정규표현식 기반 토큰화\n",
        "def regex_tokenize(text):\n",
        "    # 단어만 추출 (알파벳, 한글, 숫자)\n",
        "    pattern = r'\\b\\w+\\b'\n",
        "    return re.findall(pattern, text)\n",
        "\n",
        "tokens_regex = regex_tokenize(text)\n",
        "print(\"2. 정규표현식 기반 토큰화:\")\n",
        "print(tokens_regex)\n",
        "print(f\"총 토큰 개수: {len(tokens_regex)}\")\n",
        "print(\"\\n\" + \"-\"*30 + \"\\n\")\n",
        "\n",
        "# 3. 문장 기반 토큰화\n",
        "def sentence_tokenize(text):\n",
        "    # 간단한 문장 분리 (마침표, 느낌표, 물음표 기준)\n",
        "    sentences = re.split(r'[.!?]+', text.strip())\n",
        "    return [s.strip() for s in sentences if s.strip()]\n",
        "\n",
        "sentences = sentence_tokenize(text)\n",
        "print(\"3. 문장 기반 토큰화:\")\n",
        "for i, sentence in enumerate(sentences, 1):\n",
        "    print(f\"문장 {i}: {sentence}\")\n",
        "print(f\"총 문장 개수: {len(sentences)}\")\n",
        "print(\"\\n\" + \"-\"*30 + \"\\n\")\n"
      ]
    },
    {
      "cell_type": "code",
      "execution_count": 34,
      "metadata": {},
      "outputs": [
        {
          "name": "stdout",
          "output_type": "stream",
          "text": [
            "4. NLTK 단어 토큰화 (영어):\n",
            "['Machine', 'learning', 'and', 'deep', 'learning', 'are', 'important', 'technologies', 'in', 'NLP', '.', 'What', 'do', 'you', 'think', '?']\n",
            "총 토큰 개수: 16\n",
            "\n",
            "\n",
            "NLTK 문장 토큰화 (영어):\n",
            "문장 1: Machine learning and deep learning are important technologies in NLP.\n",
            "문장 2: What do you think?\n",
            "\n",
            "==================================================\n",
            "\n"
          ]
        }
      ],
      "source": [
        "# 4. NLTK를 사용한 고급 토큰화\n",
        "try:\n",
        "    import nltk\n",
        "    # NLTK 데이터 다운로드 (필요시)\n",
        "    try:\n",
        "        nltk.data.find('tokenizers/punkt')\n",
        "    except LookupError:\n",
        "        nltk.download('punkt')\n",
        "    \n",
        "    from nltk.tokenize import word_tokenize, sent_tokenize\n",
        "    \n",
        "    # 영어 텍스트 예시\n",
        "    english_text = \"Machine learning and deep learning are important technologies in NLP. What do you think?\"\n",
        "    \n",
        "    # NLTK 단어 토큰화\n",
        "    nltk_words = word_tokenize(english_text)\n",
        "    print(\"4. NLTK 단어 토큰화 (영어):\")\n",
        "    print(nltk_words)\n",
        "    print(f\"총 토큰 개수: {len(nltk_words)}\")\n",
        "    print(\"\\n\")\n",
        "    \n",
        "    # NLTK 문장 토큰화\n",
        "    nltk_sentences = sent_tokenize(english_text)\n",
        "    print(\"NLTK 문장 토큰화 (영어):\")\n",
        "    for i, sentence in enumerate(nltk_sentences, 1):\n",
        "        print(f\"문장 {i}: {sentence}\")\n",
        "    \n",
        "except ImportError:\n",
        "    print(\"NLTK가 설치되지 않았습니다. pip install nltk 로 설치해주세요.\")\n",
        "\n",
        "print(\"\\n\" + \"=\"*50 + \"\\n\")\n"
      ]
    },
    {
      "cell_type": "code",
      "execution_count": 35,
      "metadata": {},
      "outputs": [
        {
          "name": "stdout",
          "output_type": "stream",
          "text": [
            "문서 집합:\n",
            "문서 1: 자연어 처리는 재미있다\n",
            "문서 2: 기계 학습은 흥미롭다\n",
            "문서 3: 딥러닝과 자연어 처리가 결합되면 강력하다\n",
            "문서 4: 파이썬은 기계 학습에 좋은 도구다\n",
            "문서 5: 자연어 처리 기술이 발전하고 있다\n",
            "\\n==================================================\\n\n"
          ]
        }
      ],
      "source": [
        "# 벡터화를 위한 문서 집합 준비\n",
        "documents = [\n",
        "    \"자연어 처리는 재미있다\",\n",
        "    \"기계 학습은 흥미롭다\", \n",
        "    \"딥러닝과 자연어 처리가 결합되면 강력하다\",\n",
        "    \"파이썬은 기계 학습에 좋은 도구다\",\n",
        "    \"자연어 처리 기술이 발전하고 있다\"\n",
        "]\n",
        "\n",
        "print(\"문서 집합:\")\n",
        "for i, doc in enumerate(documents, 1):\n",
        "    print(f\"문서 {i}: {doc}\")\n",
        "\n",
        "print(\"\\\\n\" + \"=\"*50 + \"\\\\n\")\n"
      ]
    },
    {
      "cell_type": "code",
      "execution_count": 36,
      "metadata": {},
      "outputs": [
        {
          "name": "stdout",
          "output_type": "stream",
          "text": [
            "어휘 사전 (Vocabulary):\n",
            "['강력하다' '결합되면' '기계' '기술이' '도구다' '딥러닝과' '발전하고' '있다' '자연어' '재미있다' '좋은' '처리'\n",
            " '처리가' '처리는' '파이썬은' '학습에' '학습은' '흥미롭다']\n",
            "어휘 크기: 18\n",
            "\\n\n",
            "Bag of Words 행렬:\n",
            "     강력하다  결합되면  기계  기술이  도구다  딥러닝과  발전하고  있다  자연어  재미있다  좋은  처리  처리가  처리는  \\\n",
            "문서1     0     0   0    0    0     0     0   0    1     1   0   0    0    1   \n",
            "문서2     0     0   1    0    0     0     0   0    0     0   0   0    0    0   \n",
            "문서3     1     1   0    0    0     1     0   0    1     0   0   0    1    0   \n",
            "문서4     0     0   1    0    1     0     0   0    0     0   1   0    0    0   \n",
            "문서5     0     0   0    1    0     0     1   1    1     0   0   1    0    0   \n",
            "\n",
            "     파이썬은  학습에  학습은  흥미롭다  \n",
            "문서1     0    0    0     0  \n",
            "문서2     0    0    1     1  \n",
            "문서3     0    0    0     0  \n",
            "문서4     1    1    0     0  \n",
            "문서5     0    0    0     0  \n",
            "\\n행렬 크기: (5, 18)\n",
            "설명: 5개 문서 × 18개 어휘\n"
          ]
        }
      ],
      "source": [
        "# 1. Bag of Words (CountVectorizer)\n",
        "vectorizer = CountVectorizer()\n",
        "bow_matrix = vectorizer.fit_transform(documents)\n",
        "\n",
        "# 어휘 사전 확인\n",
        "vocab = vectorizer.get_feature_names_out()\n",
        "print(\"어휘 사전 (Vocabulary):\")\n",
        "print(vocab)\n",
        "print(f\"어휘 크기: {len(vocab)}\")\n",
        "print(\"\\\\n\")\n",
        "\n",
        "# BoW 행렬 확인\n",
        "print(\"Bag of Words 행렬:\")\n",
        "bow_df = pd.DataFrame(bow_matrix.toarray(), \n",
        "                      columns=vocab,\n",
        "                      index=[f\"문서{i}\" for i in range(1, len(documents)+1)])\n",
        "print(bow_df)\n",
        "print(f\"\\\\n행렬 크기: {bow_matrix.shape}\")\n",
        "print(f\"설명: {bow_matrix.shape[0]}개 문서 × {bow_matrix.shape[1]}개 어휘\")\n"
      ]
    },
    {
      "cell_type": "markdown",
      "metadata": {
        "vscode": {
          "languageId": "raw"
        }
      },
      "source": [
        "### 2.2 TF-IDF (Term Frequency-Inverse Document Frequency)\n"
      ]
    },
    {
      "cell_type": "code",
      "execution_count": 37,
      "metadata": {},
      "outputs": [
        {
          "name": "stdout",
          "output_type": "stream",
          "text": [
            "\\n==================================================\\n\n",
            "TF-IDF 행렬:\n",
            "      강력하다   결합되면     기계    기술이    도구다   딥러닝과   발전하고     있다    자연어   재미있다  \\\n",
            "문서1  0.000  0.000  0.000  0.000  0.000  0.000  0.000  0.000  0.428  0.639   \n",
            "문서2  0.000  0.000  0.496  0.000  0.000  0.000  0.000  0.000  0.000  0.000   \n",
            "문서3  0.474  0.474  0.000  0.000  0.000  0.474  0.000  0.000  0.318  0.000   \n",
            "문서4  0.000  0.000  0.374  0.000  0.464  0.000  0.000  0.000  0.000  0.000   \n",
            "문서5  0.000  0.000  0.000  0.474  0.000  0.000  0.474  0.474  0.318  0.000   \n",
            "\n",
            "        좋은     처리    처리가    처리는   파이썬은    학습에    학습은   흥미롭다  \n",
            "문서1  0.000  0.000  0.000  0.639  0.000  0.000  0.000  0.000  \n",
            "문서2  0.000  0.000  0.000  0.000  0.000  0.000  0.614  0.614  \n",
            "문서3  0.000  0.000  0.474  0.000  0.000  0.000  0.000  0.000  \n",
            "문서4  0.464  0.000  0.000  0.000  0.464  0.464  0.000  0.000  \n",
            "문서5  0.000  0.474  0.000  0.000  0.000  0.000  0.000  0.000  \n",
            "\\n------------------------------\\n\n",
            "BoW vs TF-IDF 비교 (첫 번째 문서):\n",
            "BoW 값:\n",
            "{'강력하다': 0, '결합되면': 0, '기계': 0, '기술이': 0, '도구다': 0, '딥러닝과': 0, '발전하고': 0, '있다': 0, '자연어': 1, '재미있다': 1, '좋은': 0, '처리': 0, '처리가': 0, '처리는': 1, '파이썬은': 0, '학습에': 0, '학습은': 0, '흥미롭다': 0}\n",
            "\\nTF-IDF 값:\n",
            "{'강력하다': 0.0, '결합되면': 0.0, '기계': 0.0, '기술이': 0.0, '도구다': 0.0, '딥러닝과': 0.0, '발전하고': 0.0, '있다': 0.0, '자연어': 0.428, '재미있다': 0.639, '좋은': 0.0, '처리': 0.0, '처리가': 0.0, '처리는': 0.639, '파이썬은': 0.0, '학습에': 0.0, '학습은': 0.0, '흥미롭다': 0.0}\n"
          ]
        },
        {
          "data": {
            "image/png": "[encoded data removed]",
            "text/plain": [
              "<Figure size 1500x600 with 4 Axes>"
            ]
          },
          "metadata": {},
          "output_type": "display_data"
        }
      ],
      "source": [
        "# 2. TF-IDF 벡터화\n",
        "print(\"\\\\n\" + \"=\"*50 + \"\\\\n\")\n",
        "\n",
        "tfidf_vectorizer = TfidfVectorizer()\n",
        "tfidf_matrix = tfidf_vectorizer.fit_transform(documents)\n",
        "\n",
        "# TF-IDF 행렬 확인\n",
        "print(\"TF-IDF 행렬:\")\n",
        "tfidf_df = pd.DataFrame(tfidf_matrix.toarray(), \n",
        "                        columns=tfidf_vectorizer.get_feature_names_out(),\n",
        "                        index=[f\"문서{i}\" for i in range(1, len(documents)+1)])\n",
        "print(tfidf_df.round(3))  # 소수점 3자리까지만 표시\n",
        "\n",
        "print(\"\\\\n\" + \"-\"*30 + \"\\\\n\")\n",
        "\n",
        "# BoW vs TF-IDF 비교\n",
        "print(\"BoW vs TF-IDF 비교 (첫 번째 문서):\")\n",
        "print(\"BoW 값:\")\n",
        "print(bow_df.iloc[0].to_dict())\n",
        "print(\"\\\\nTF-IDF 값:\")\n",
        "print(dict(zip(tfidf_df.columns, tfidf_df.iloc[0].round(3))))\n",
        "\n",
        "# 시각화\n",
        "fig, (ax1, ax2) = plt.subplots(1, 2, figsize=(15, 6))\n",
        "\n",
        "# BoW 히트맵\n",
        "sns.heatmap(bow_df, annot=True, fmt='d', cmap='Blues', ax=ax1)\n",
        "ax1.set_title('Bag of Words Matrix')\n",
        "ax1.set_xlabel('Words')\n",
        "ax1.set_ylabel('Documents')\n",
        "\n",
        "# TF-IDF 히트맵\n",
        "sns.heatmap(tfidf_df, annot=True, fmt='.2f', cmap='Reds', ax=ax2)\n",
        "ax2.set_title('TF-IDF Matrix')\n",
        "ax2.set_xlabel('Words')\n",
        "ax2.set_ylabel('Documents')\n",
        "\n",
        "plt.tight_layout()\n",
        "plt.show()\n"
      ]
    },
    {
      "cell_type": "markdown",
      "metadata": {
        "vscode": {
          "languageId": "raw"
        }
      },
      "source": [
        "## 3. 임베딩(Embedding)\n",
        "\n",
        "임베딩은 단어나 문서를 고차원 벡터 공간에 매핑하는 과정입니다. 벡터화와 달리 임베딩은 단어 간의 의미적 관계를 보존하며, 유사한 의미의 단어들이 벡터 공간에서 가까이 위치하도록 합니다.\n",
        "\n",
        "### 3.1 간단한 원-핫 인코딩\n"
      ]
    },
    {
      "cell_type": "code",
      "execution_count": 30,
      "metadata": {},
      "outputs": [
        {
          "name": "stdout",
          "output_type": "stream",
          "text": [
            "\\n==================================================\\n\n",
            "단어 사전:\n",
            "{'자연어': 0, '처리': 1, '기계': 2, '학습': 3, '딥러닝': 4}\n",
            "\\n\n",
            "원-핫 인코딩 결과:\n",
            "자연어: [1. 0. 0. 0. 0.]\n",
            "처리: [0. 1. 0. 0. 0.]\n",
            "기계: [0. 0. 1. 0. 0.]\n",
            "학습: [0. 0. 0. 1. 0.]\n",
            "딥러닝: [0. 0. 0. 0. 1.]\n",
            "\\n------------------------------\\n\n",
            "원-핫 인코딩의 문제점:\n",
            "1. 희소성(Sparsity): 대부분의 값이 0\n",
            "2. 차원의 저주: 어휘 크기만큼 벡터 차원 증가\n",
            "3. 의미적 관계 무시: 유사한 단어도 동일한 거리\n",
            "\\n코사인 유사도:\n",
            "'자연어' vs '처리': 0.000\n",
            "'자연어' vs '기계': 0.000\n",
            "→ 모든 단어 간 유사도가 0 (의미적 관계 반영 안됨)\n"
          ]
        }
      ],
      "source": [
        "# 3. 임베딩 실습\n",
        "print(\"\\\\n\" + \"=\"*50 + \"\\\\n\")\n",
        "\n",
        "# 원-핫 인코딩 예시\n",
        "words = [\"자연어\", \"처리\", \"기계\", \"학습\", \"딥러닝\"]\n",
        "word_to_index = {word: i for i, word in enumerate(words)}\n",
        "index_to_word = {i: word for i, word in enumerate(words)}\n",
        "\n",
        "print(\"단어 사전:\")\n",
        "print(word_to_index)\n",
        "print(\"\\\\n\")\n",
        "\n",
        "def one_hot_encode(word, vocab_size):\n",
        "    vector = np.zeros(vocab_size)\n",
        "    if word in word_to_index:\n",
        "        vector[word_to_index[word]] = 1\n",
        "    return vector\n",
        "\n",
        "# 원-핫 벡터 생성\n",
        "print(\"원-핫 인코딩 결과:\")\n",
        "for word in words:\n",
        "    vector = one_hot_encode(word, len(words))\n",
        "    print(f\"{word}: {vector}\")\n",
        "\n",
        "print(\"\\\\n\" + \"-\"*30 + \"\\\\n\")\n",
        "\n",
        "# 원-핫 인코딩의 문제점 설명\n",
        "print(\"원-핫 인코딩의 문제점:\")\n",
        "print(\"1. 희소성(Sparsity): 대부분의 값이 0\")\n",
        "print(\"2. 차원의 저주: 어휘 크기만큼 벡터 차원 증가\")\n",
        "print(\"3. 의미적 관계 무시: 유사한 단어도 동일한 거리\")\n",
        "\n",
        "# 코사인 유사도 계산\n",
        "def cosine_similarity(v1, v2):\n",
        "    return np.dot(v1, v2) / (np.linalg.norm(v1) * np.linalg.norm(v2))\n",
        "\n",
        "vec1 = one_hot_encode(\"자연어\", len(words))\n",
        "vec2 = one_hot_encode(\"처리\", len(words))\n",
        "vec3 = one_hot_encode(\"기계\", len(words))\n",
        "\n",
        "print(f\"\\\\n코사인 유사도:\")\n",
        "print(f\"'자연어' vs '처리': {cosine_similarity(vec1, vec2):.3f}\")\n",
        "print(f\"'자연어' vs '기계': {cosine_similarity(vec1, vec3):.3f}\")\n",
        "print(\"→ 모든 단어 간 유사도가 0 (의미적 관계 반영 안됨)\")\n"
      ]
    },
    {
      "cell_type": "markdown",
      "metadata": {
        "vscode": {
          "languageId": "raw"
        }
      },
      "source": [
        "### 3.2 밀집 임베딩 (Dense Embedding)\n"
      ]
    },
    {
      "cell_type": "code",
      "execution_count": 31,
      "metadata": {},
      "outputs": [
        {
          "name": "stdout",
          "output_type": "stream",
          "text": [
            "\\n==================================================\\n\n",
            "밀집 임베딩 (3차원):\n",
            "자연어: [0.8 0.3 0.1]\n",
            "처리: [0.7 0.4 0.2]\n",
            "기계: [0.2 0.8 0.6]\n",
            "학습: [0.1 0.9 0.7]\n",
            "딥러닝: [0.3 0.7 0.8]\n",
            "\\n------------------------------\\n\n",
            "밀집 임베딩의 의미적 유사도:\n",
            "'자연어' vs '처리' (NLP 관련): 0.980\n",
            "'기계' vs '학습' (ML 관련): 0.994\n",
            "'자연어' vs '기계' (도메인 다름): 0.524\n",
            "\\n→ 의미적으로 관련된 단어들이 더 높은 유사도를 가짐\n"
          ]
        }
      ],
      "source": [
        "# 간단한 밀집 임베딩 예시 (가상의 임베딩)\n",
        "print(\"\\\\n\" + \"=\"*50 + \"\\\\n\")\n",
        "\n",
        "# 가상의 3차원 밀집 임베딩 (실제로는 Word2Vec, GloVe 등으로 학습)\n",
        "dense_embeddings = {\n",
        "    \"자연어\": np.array([0.8, 0.3, 0.1]),\n",
        "    \"처리\": np.array([0.7, 0.4, 0.2]),\n",
        "    \"기계\": np.array([0.2, 0.8, 0.6]),\n",
        "    \"학습\": np.array([0.1, 0.9, 0.7]),\n",
        "    \"딥러닝\": np.array([0.3, 0.7, 0.8])\n",
        "}\n",
        "\n",
        "print(\"밀집 임베딩 (3차원):\")\n",
        "for word, embedding in dense_embeddings.items():\n",
        "    print(f\"{word}: {embedding}\")\n",
        "\n",
        "print(\"\\\\n\" + \"-\"*30 + \"\\\\n\")\n",
        "\n",
        "# 밀집 임베딩의 장점 확인\n",
        "print(\"밀집 임베딩의 의미적 유사도:\")\n",
        "nlp_words = [\"자연어\", \"처리\"]\n",
        "ml_words = [\"기계\", \"학습\", \"딥러닝\"]\n",
        "\n",
        "# NLP 관련 단어들 간 유사도\n",
        "nlp_sim = cosine_similarity(dense_embeddings[\"자연어\"], dense_embeddings[\"처리\"])\n",
        "print(f\"'자연어' vs '처리' (NLP 관련): {nlp_sim:.3f}\")\n",
        "\n",
        "# ML 관련 단어들 간 유사도  \n",
        "ml_sim = cosine_similarity(dense_embeddings[\"기계\"], dense_embeddings[\"학습\"])\n",
        "print(f\"'기계' vs '학습' (ML 관련): {ml_sim:.3f}\")\n",
        "\n",
        "# 서로 다른 도메인 간 유사도\n",
        "cross_sim = cosine_similarity(dense_embeddings[\"자연어\"], dense_embeddings[\"기계\"])\n",
        "print(f\"'자연어' vs '기계' (도메인 다름): {cross_sim:.3f}\")\n",
        "\n",
        "print(\"\\\\n→ 의미적으로 관련된 단어들이 더 높은 유사도를 가짐\")\n"
      ]
    },
    {
      "cell_type": "code",
      "execution_count": 32,
      "metadata": {},
      "outputs": [
        {
          "name": "stdout",
          "output_type": "stream",
          "text": [
            "\\n==================================================\\n\n"
          ]
        },
        {
          "data": {
            "image/png": "[encoded data removed]",
            "text/plain": [
              "<Figure size 1000x800 with 1 Axes>"
            ]
          },
          "metadata": {},
          "output_type": "display_data"
        },
        {
          "name": "stdout",
          "output_type": "stream",
          "text": [
            "시각화 설명:\n",
            "- 가까이 위치한 단어들은 의미적으로 유사함\n",
            "- 실제 Word2Vec, GloVe 등에서는 수백 차원의 벡터를 사용\n",
            "- t-SNE, UMAP 등으로 고차원 임베딩을 2D로 시각화 가능\n"
          ]
        }
      ],
      "source": [
        "# 임베딩 시각화 (2D 평면에 투영)\n",
        "print(\"\\\\n\" + \"=\"*50 + \"\\\\n\")\n",
        "\n",
        "# 3차원 → 2차원 투영을 위해 PCA 사용\n",
        "embedding_matrix = np.array(list(dense_embeddings.values()))\n",
        "word_labels = list(dense_embeddings.keys())\n",
        "\n",
        "# PCA로 2차원으로 축소\n",
        "pca = PCA(n_components=2)\n",
        "embeddings_2d = pca.fit_transform(embedding_matrix)\n",
        "\n",
        "# 시각화\n",
        "plt.figure(figsize=(10, 8))\n",
        "plt.scatter(embeddings_2d[:, 0], embeddings_2d[:, 1], s=100, alpha=0.7)\n",
        "\n",
        "# 단어 라벨 추가\n",
        "for i, word in enumerate(word_labels):\n",
        "    plt.annotate(word, (embeddings_2d[i, 0], embeddings_2d[i, 1]), \n",
        "                xytext=(5, 5), textcoords='offset points', fontsize=12)\n",
        "\n",
        "plt.title('Word Embeddings Visualization (2D)')\n",
        "plt.xlabel('Principal Component 1')\n",
        "plt.ylabel('Principal Component 2')\n",
        "plt.grid(True, alpha=0.3)\n",
        "plt.show()\n",
        "\n",
        "print(\"시각화 설명:\")\n",
        "print(\"- 가까이 위치한 단어들은 의미적으로 유사함\")\n",
        "print(\"- 실제 Word2Vec, GloVe 등에서는 수백 차원의 벡터를 사용\")\n",
        "print(\"- t-SNE, UMAP 등으로 고차원 임베딩을 2D로 시각화 가능\")\n"
      ]
    },
    {
      "cell_type": "code",
      "execution_count": 33,
      "metadata": {},
      "outputs": [
        {
          "name": "stdout",
          "output_type": "stream",
          "text": [
            "\\n============================================================\\n\n",
            "종합 실습: 텍스트 → 토큰화 → 벡터화 → 임베딩 파이프라인\n",
            "============================================================\n",
            "\\n1. 원본 텍스트:\n",
            "  1. 인공지능과 머신러닝은 현대 기술의 핵심이다\n",
            "  2. 자연어 처리 기술이 빠르게 발전하고 있다\n",
            "  3. 딥러닝 모델은 복잡한 패턴을 학습할 수 있다\n",
            "  4. 데이터 과학자들이 Python을 많이 사용한다\n",
            "  5. 빅데이터 분석에는 다양한 도구가 필요하다\n",
            "\\n2. 토큰화 결과:\n",
            "  1. ['인공지능과', '머신러닝은', '현대', '기술의', '핵심이다']\n",
            "  2. ['자연어', '처리', '기술이', '빠르게', '발전하고', '있다']\n",
            "  3. ['딥러닝', '모델은', '복잡한', '패턴을', '학습할', '수', '있다']\n",
            "  4. ['데이터', '과학자들이', 'Python을', '많이', '사용한다']\n",
            "  5. ['빅데이터', '분석에는', '다양한', '도구가', '필요하다']\n",
            "\\n3. BoW 벡터화:\n",
            "  행렬 크기: (5, 26)\n",
            "  어휘 크기: 26\n",
            "  어휘: ['python을' '과학자들이' '기술의' '기술이' '다양한' '데이터' '도구가' '딥러닝' '많이' '머신러닝은']...\n",
            "\\n4. TF-IDF 벡터화:\n",
            "  행렬 크기: (5, 26)\n",
            "  첫 번째 문서의 상위 5개 TF-IDF 값:\n",
            "    기술의: 0.4472\n",
            "    머신러닝은: 0.4472\n",
            "    인공지능과: 0.4472\n",
            "    핵심이다: 0.4472\n",
            "    현대: 0.4472\n",
            "\\n5. 문서 간 유사도 계산 (TF-IDF 기반):\n",
            "  유사도 행렬 (처음 3x3):\n",
            "[[1.    0.    0.   ]\n",
            " [0.    1.    0.115]\n",
            " [0.    0.115 1.   ]]\n"
          ]
        }
      ],
      "source": [
        "# 종합 실습: 텍스트 전처리 파이프라인\n",
        "print(\"\\\\n\" + \"=\"*60 + \"\\\\n\")\n",
        "print(\"종합 실습: 텍스트 → 토큰화 → 벡터화 → 임베딩 파이프라인\")\n",
        "print(\"=\"*60)\n",
        "\n",
        "# 실습용 텍스트 데이터\n",
        "sample_texts = [\n",
        "    \"인공지능과 머신러닝은 현대 기술의 핵심이다\",\n",
        "    \"자연어 처리 기술이 빠르게 발전하고 있다\",\n",
        "    \"딥러닝 모델은 복잡한 패턴을 학습할 수 있다\",\n",
        "    \"데이터 과학자들이 Python을 많이 사용한다\",\n",
        "    \"빅데이터 분석에는 다양한 도구가 필요하다\"\n",
        "]\n",
        "\n",
        "print(\"\\\\n1. 원본 텍스트:\")\n",
        "for i, text in enumerate(sample_texts, 1):\n",
        "    print(f\"  {i}. {text}\")\n",
        "\n",
        "# 단계별 처리\n",
        "print(\"\\\\n2. 토큰화 결과:\")\n",
        "tokenized_texts = []\n",
        "for i, text in enumerate(sample_texts, 1):\n",
        "    tokens = regex_tokenize(text)\n",
        "    tokenized_texts.append(tokens)\n",
        "    print(f\"  {i}. {tokens}\")\n",
        "\n",
        "print(\"\\\\n3. BoW 벡터화:\")\n",
        "bow_vectorizer = CountVectorizer()\n",
        "bow_vectors = bow_vectorizer.fit_transform(sample_texts)\n",
        "print(f\"  행렬 크기: {bow_vectors.shape}\")\n",
        "print(f\"  어휘 크기: {len(bow_vectorizer.get_feature_names_out())}\")\n",
        "print(f\"  어휘: {bow_vectorizer.get_feature_names_out()[:10]}...\")  # 처음 10개만\n",
        "\n",
        "print(\"\\\\n4. TF-IDF 벡터화:\")\n",
        "tfidf_vectorizer = TfidfVectorizer()\n",
        "tfidf_vectors = tfidf_vectorizer.fit_transform(sample_texts)\n",
        "print(f\"  행렬 크기: {tfidf_vectors.shape}\")\n",
        "print(f\"  첫 번째 문서의 상위 5개 TF-IDF 값:\")\n",
        "\n",
        "# 첫 번째 문서의 TF-IDF 값 정렬\n",
        "first_doc_tfidf = tfidf_vectors[0].toarray()[0]\n",
        "feature_names = tfidf_vectorizer.get_feature_names_out()\n",
        "tfidf_scores = list(zip(feature_names, first_doc_tfidf))\n",
        "tfidf_scores.sort(key=lambda x: x[1], reverse=True)\n",
        "\n",
        "for word, score in tfidf_scores[:5]:\n",
        "    if score > 0:\n",
        "        print(f\"    {word}: {score:.4f}\")\n",
        "\n",
        "print(\"\\\\n5. 문서 간 유사도 계산 (TF-IDF 기반):\")\n",
        "from sklearn.metrics.pairwise import cosine_similarity\n",
        "\n",
        "similarity_matrix = cosine_similarity(tfidf_vectors)\n",
        "print(\"  유사도 행렬 (처음 3x3):\")\n",
        "print(similarity_matrix[:3, :3].round(3))\n"
      ]
    },
    {
      "cell_type": "code",
      "execution_count": null,
      "metadata": {},
      "outputs": [],
      "source": []
    },
    {
      "cell_type": "code",
      "execution_count": null,
      "metadata": {},
      "outputs": [],
      "source": []
    }
  ],
  "metadata": {
    "kernelspec": {
      "display_name": "venv",
      "language": "python",
      "name": "python3"
    },
    "language_info": {
      "codemirror_mode": {
        "name": "ipython",
        "version": 3
      },
      "file_extension": ".py",
      "mimetype": "text/x-python",
      "name": "python",
      "nbconvert_exporter": "python",
      "pygments_lexer": "ipython3",
      "version": "3.12.10"
    }
  },
  "nbformat": 4,
  "nbformat_minor": 2
}
